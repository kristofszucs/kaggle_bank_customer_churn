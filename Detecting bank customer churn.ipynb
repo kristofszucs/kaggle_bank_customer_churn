{
 "cells": [
  {
   "cell_type": "code",
   "execution_count": 2,
   "metadata": {
    "_cell_guid": "b1076dfc-b9ad-4769-8c92-a6c4dae69d19",
    "_uuid": "8f2839f25d086af736a60e9eeb907d3b93b6e0e5"
   },
   "outputs": [],
   "source": [
    "import numpy as np\n",
    "import pandas as pd\n",
    "import seaborn as sns\n",
    "import matplotlib.pyplot as plt\n",
    "\n",
    "from sklearn.model_selection import train_test_split\n",
    "from sklearn.preprocessing import StandardScaler\n",
    "from sklearn.model_selection import GridSearchCV\n",
    "from sklearn.ensemble import RandomForestClassifier\n",
    "from sklearn.metrics import accuracy_score,precision_score, recall_score, f1_score, confusion_matrix\n",
    "\n",
    "pd.options.display.float_format = '{:,.1f}'.format"
   ]
  },
  {
   "cell_type": "markdown",
   "metadata": {},
   "source": [
    "# 1. Load data"
   ]
  },
  {
   "cell_type": "code",
   "execution_count": 3,
   "metadata": {
    "_cell_guid": "79c7e3d0-c299-4dcb-8224-4455121ee9b0",
    "_uuid": "d629ff2d2480ee46fbb7e2d37f6b5fab8052498a"
   },
   "outputs": [],
   "source": [
    "df = pd.read_csv('./BankChurners.csv')"
   ]
  },
  {
   "cell_type": "markdown",
   "metadata": {},
   "source": [
    "As suggested in the dataset's description on Kaggle, we delete the last two columns. They won't be needed for churn prediction : https://www.kaggle.com/sakshigoyal7/credit-card-customers"
   ]
  },
  {
   "cell_type": "code",
   "execution_count": 4,
   "metadata": {},
   "outputs": [],
   "source": [
    "df = df.iloc[:, :-2]"
   ]
  },
  {
   "cell_type": "markdown",
   "metadata": {},
   "source": [
    "# 2. Explore and prepare data"
   ]
  },
  {
   "cell_type": "markdown",
   "metadata": {},
   "source": [
    "### 2.1 First look"
   ]
  },
  {
   "cell_type": "markdown",
   "metadata": {},
   "source": [
    "We start by looking at the few random rows of our table to see what the data looks like."
   ]
  },
  {
   "cell_type": "code",
   "execution_count": 18,
   "metadata": {},
   "outputs": [
    {
     "data": {
      "text/html": [
       "<div>\n",
       "<style scoped>\n",
       "    .dataframe tbody tr th:only-of-type {\n",
       "        vertical-align: middle;\n",
       "    }\n",
       "\n",
       "    .dataframe tbody tr th {\n",
       "        vertical-align: top;\n",
       "    }\n",
       "\n",
       "    .dataframe thead th {\n",
       "        text-align: right;\n",
       "    }\n",
       "</style>\n",
       "<table border=\"1\" class=\"dataframe\">\n",
       "  <thead>\n",
       "    <tr style=\"text-align: right;\">\n",
       "      <th></th>\n",
       "      <th>CLIENTNUM</th>\n",
       "      <th>Attrition_Flag</th>\n",
       "      <th>Customer_Age</th>\n",
       "      <th>Gender</th>\n",
       "      <th>Dependent_count</th>\n",
       "      <th>Education_Level</th>\n",
       "      <th>Marital_Status</th>\n",
       "      <th>Income_Category</th>\n",
       "      <th>Card_Category</th>\n",
       "      <th>Months_on_book</th>\n",
       "      <th>...</th>\n",
       "      <th>Months_Inactive_12_mon</th>\n",
       "      <th>Contacts_Count_12_mon</th>\n",
       "      <th>Credit_Limit</th>\n",
       "      <th>Total_Revolving_Bal</th>\n",
       "      <th>Avg_Open_To_Buy</th>\n",
       "      <th>Total_Amt_Chng_Q4_Q1</th>\n",
       "      <th>Total_Trans_Amt</th>\n",
       "      <th>Total_Trans_Ct</th>\n",
       "      <th>Total_Ct_Chng_Q4_Q1</th>\n",
       "      <th>Avg_Utilization_Ratio</th>\n",
       "    </tr>\n",
       "  </thead>\n",
       "  <tbody>\n",
       "    <tr>\n",
       "      <th>3386</th>\n",
       "      <td>713343333</td>\n",
       "      <td>Existing Customer</td>\n",
       "      <td>42</td>\n",
       "      <td>M</td>\n",
       "      <td>3</td>\n",
       "      <td>Unknown</td>\n",
       "      <td>Married</td>\n",
       "      <td>$40K - $60K</td>\n",
       "      <td>Blue</td>\n",
       "      <td>29</td>\n",
       "      <td>...</td>\n",
       "      <td>3</td>\n",
       "      <td>4</td>\n",
       "      <td>6,698.0</td>\n",
       "      <td>1327</td>\n",
       "      <td>5,371.0</td>\n",
       "      <td>0.8</td>\n",
       "      <td>4065</td>\n",
       "      <td>77</td>\n",
       "      <td>0.7</td>\n",
       "      <td>0.2</td>\n",
       "    </tr>\n",
       "    <tr>\n",
       "      <th>3917</th>\n",
       "      <td>719219883</td>\n",
       "      <td>Existing Customer</td>\n",
       "      <td>47</td>\n",
       "      <td>M</td>\n",
       "      <td>2</td>\n",
       "      <td>Uneducated</td>\n",
       "      <td>Married</td>\n",
       "      <td>$60K - $80K</td>\n",
       "      <td>Blue</td>\n",
       "      <td>36</td>\n",
       "      <td>...</td>\n",
       "      <td>1</td>\n",
       "      <td>2</td>\n",
       "      <td>9,300.0</td>\n",
       "      <td>769</td>\n",
       "      <td>8,531.0</td>\n",
       "      <td>0.7</td>\n",
       "      <td>3651</td>\n",
       "      <td>67</td>\n",
       "      <td>0.7</td>\n",
       "      <td>0.1</td>\n",
       "    </tr>\n",
       "    <tr>\n",
       "      <th>3171</th>\n",
       "      <td>807593058</td>\n",
       "      <td>Attrited Customer</td>\n",
       "      <td>41</td>\n",
       "      <td>F</td>\n",
       "      <td>3</td>\n",
       "      <td>Unknown</td>\n",
       "      <td>Single</td>\n",
       "      <td>$40K - $60K</td>\n",
       "      <td>Blue</td>\n",
       "      <td>36</td>\n",
       "      <td>...</td>\n",
       "      <td>2</td>\n",
       "      <td>4</td>\n",
       "      <td>5,317.0</td>\n",
       "      <td>0</td>\n",
       "      <td>5,317.0</td>\n",
       "      <td>0.7</td>\n",
       "      <td>2003</td>\n",
       "      <td>29</td>\n",
       "      <td>0.3</td>\n",
       "      <td>0.0</td>\n",
       "    </tr>\n",
       "    <tr>\n",
       "      <th>5764</th>\n",
       "      <td>714771708</td>\n",
       "      <td>Existing Customer</td>\n",
       "      <td>36</td>\n",
       "      <td>F</td>\n",
       "      <td>0</td>\n",
       "      <td>College</td>\n",
       "      <td>Unknown</td>\n",
       "      <td>Unknown</td>\n",
       "      <td>Blue</td>\n",
       "      <td>26</td>\n",
       "      <td>...</td>\n",
       "      <td>3</td>\n",
       "      <td>3</td>\n",
       "      <td>4,692.0</td>\n",
       "      <td>0</td>\n",
       "      <td>4,692.0</td>\n",
       "      <td>0.8</td>\n",
       "      <td>4281</td>\n",
       "      <td>69</td>\n",
       "      <td>0.6</td>\n",
       "      <td>0.0</td>\n",
       "    </tr>\n",
       "    <tr>\n",
       "      <th>8610</th>\n",
       "      <td>718078008</td>\n",
       "      <td>Existing Customer</td>\n",
       "      <td>40</td>\n",
       "      <td>M</td>\n",
       "      <td>2</td>\n",
       "      <td>College</td>\n",
       "      <td>Divorced</td>\n",
       "      <td>$60K - $80K</td>\n",
       "      <td>Blue</td>\n",
       "      <td>36</td>\n",
       "      <td>...</td>\n",
       "      <td>2</td>\n",
       "      <td>1</td>\n",
       "      <td>20,304.0</td>\n",
       "      <td>0</td>\n",
       "      <td>20,304.0</td>\n",
       "      <td>0.8</td>\n",
       "      <td>7494</td>\n",
       "      <td>85</td>\n",
       "      <td>0.7</td>\n",
       "      <td>0.0</td>\n",
       "    </tr>\n",
       "  </tbody>\n",
       "</table>\n",
       "<p>5 rows × 21 columns</p>\n",
       "</div>"
      ],
      "text/plain": [
       "      CLIENTNUM     Attrition_Flag  Customer_Age Gender  Dependent_count  \\\n",
       "3386  713343333  Existing Customer            42      M                3   \n",
       "3917  719219883  Existing Customer            47      M                2   \n",
       "3171  807593058  Attrited Customer            41      F                3   \n",
       "5764  714771708  Existing Customer            36      F                0   \n",
       "8610  718078008  Existing Customer            40      M                2   \n",
       "\n",
       "     Education_Level Marital_Status Income_Category Card_Category  \\\n",
       "3386         Unknown        Married     $40K - $60K          Blue   \n",
       "3917      Uneducated        Married     $60K - $80K          Blue   \n",
       "3171         Unknown         Single     $40K - $60K          Blue   \n",
       "5764         College        Unknown         Unknown          Blue   \n",
       "8610         College       Divorced     $60K - $80K          Blue   \n",
       "\n",
       "      Months_on_book  ...  Months_Inactive_12_mon  Contacts_Count_12_mon  \\\n",
       "3386              29  ...                       3                      4   \n",
       "3917              36  ...                       1                      2   \n",
       "3171              36  ...                       2                      4   \n",
       "5764              26  ...                       3                      3   \n",
       "8610              36  ...                       2                      1   \n",
       "\n",
       "      Credit_Limit  Total_Revolving_Bal  Avg_Open_To_Buy  \\\n",
       "3386       6,698.0                 1327          5,371.0   \n",
       "3917       9,300.0                  769          8,531.0   \n",
       "3171       5,317.0                    0          5,317.0   \n",
       "5764       4,692.0                    0          4,692.0   \n",
       "8610      20,304.0                    0         20,304.0   \n",
       "\n",
       "      Total_Amt_Chng_Q4_Q1  Total_Trans_Amt  Total_Trans_Ct  \\\n",
       "3386                   0.8             4065              77   \n",
       "3917                   0.7             3651              67   \n",
       "3171                   0.7             2003              29   \n",
       "5764                   0.8             4281              69   \n",
       "8610                   0.8             7494              85   \n",
       "\n",
       "      Total_Ct_Chng_Q4_Q1  Avg_Utilization_Ratio  \n",
       "3386                  0.7                    0.2  \n",
       "3917                  0.7                    0.1  \n",
       "3171                  0.3                    0.0  \n",
       "5764                  0.6                    0.0  \n",
       "8610                  0.7                    0.0  \n",
       "\n",
       "[5 rows x 21 columns]"
      ]
     },
     "execution_count": 18,
     "metadata": {},
     "output_type": "execute_result"
    }
   ],
   "source": [
    "df.sample(5)"
   ]
  },
  {
   "cell_type": "code",
   "execution_count": 5,
   "metadata": {},
   "outputs": [
    {
     "name": "stdout",
     "output_type": "stream",
     "text": [
      "Dataset size : (10127, 21)\n"
     ]
    }
   ],
   "source": [
    "print('Dataset size : '+str(df.shape))"
   ]
  },
  {
   "cell_type": "markdown",
   "metadata": {},
   "source": [
    "We will work with 10 127 observations and 21 variables if we include the label column."
   ]
  },
  {
   "cell_type": "code",
   "execution_count": 6,
   "metadata": {},
   "outputs": [
    {
     "data": {
      "text/plain": [
       "10127"
      ]
     },
     "execution_count": 6,
     "metadata": {},
     "output_type": "execute_result"
    }
   ],
   "source": [
    "df.CLIENTNUM.nunique()"
   ]
  },
  {
   "cell_type": "markdown",
   "metadata": {},
   "source": [
    "As it is supposed to be, for all clients we have a unique identification code. We won't be able to do much with the **CLIENTNUM** column beside identifying specific clients."
   ]
  },
  {
   "cell_type": "markdown",
   "metadata": {},
   "source": [
    "### 2.2 Focus on the label column"
   ]
  },
  {
   "cell_type": "markdown",
   "metadata": {},
   "source": [
    "The label column called **Attrition_Flag** contains the following values: *Existing Customer* and *Attrited Customer*"
   ]
  },
  {
   "cell_type": "code",
   "execution_count": 7,
   "metadata": {},
   "outputs": [
    {
     "name": "stdout",
     "output_type": "stream",
     "text": [
      "Label column distribution in our dataset:\n",
      "Existing Customer    8500\n",
      "Attrited Customer    1627\n",
      "Name: Attrition_Flag, dtype: int64\n"
     ]
    },
    {
     "data": {
      "text/plain": [
       "<AxesSubplot:xlabel='Attrition_Flag', ylabel='count'>"
      ]
     },
     "execution_count": 7,
     "metadata": {},
     "output_type": "execute_result"
    },
    {
     "data": {
      "image/png": "[encoded data removed]",
      "text/plain": [
       "<Figure size 288x216 with 1 Axes>"
      ]
     },
     "metadata": {},
     "output_type": "display_data"
    }
   ],
   "source": [
    "print('Label column distribution in our dataset:')\n",
    "print(df.Attrition_Flag.value_counts())\n",
    "sns.set(rc={'figure.figsize':(4,3)})\n",
    "sns.countplot(data=df,x = 'Attrition_Flag')"
   ]
  },
  {
   "cell_type": "markdown",
   "metadata": {},
   "source": [
    "We can observe that these two classes are quite unbalanced as we have around 5 times more existing customers than attrited ones."
   ]
  },
  {
   "cell_type": "markdown",
   "metadata": {},
   "source": [
    "For easier manipulation of the label column, we will give the value **0** to existing customers and **1** for the customers who quit the bank. "
   ]
  },
  {
   "cell_type": "code",
   "execution_count": 8,
   "metadata": {},
   "outputs": [],
   "source": [
    "df = df.replace({'Attrition_Flag' : { 'Existing Customer' : 0, 'Attrited Customer' : 1}})"
   ]
  },
  {
   "cell_type": "markdown",
   "metadata": {},
   "source": [
    "### 2.3 Missing values"
   ]
  },
  {
   "cell_type": "code",
   "execution_count": 9,
   "metadata": {},
   "outputs": [
    {
     "name": "stdout",
     "output_type": "stream",
     "text": [
      "Number of missing values :\n",
      "\n",
      "CLIENTNUM                   0\n",
      "Attrition_Flag              0\n",
      "Customer_Age                0\n",
      "Gender                      0\n",
      "Dependent_count             0\n",
      "Education_Level             0\n",
      "Marital_Status              0\n",
      "Income_Category             0\n",
      "Card_Category               0\n",
      "Months_on_book              0\n",
      "Total_Relationship_Count    0\n",
      "Months_Inactive_12_mon      0\n",
      "Contacts_Count_12_mon       0\n",
      "Credit_Limit                0\n",
      "Total_Revolving_Bal         0\n",
      "Avg_Open_To_Buy             0\n",
      "Total_Amt_Chng_Q4_Q1        0\n",
      "Total_Trans_Amt             0\n",
      "Total_Trans_Ct              0\n",
      "Total_Ct_Chng_Q4_Q1         0\n",
      "Avg_Utilization_Ratio       0\n",
      "dtype: int64\n"
     ]
    }
   ],
   "source": [
    "print('Number of missing values :')\n",
    "print('')\n",
    "print(df.isna().sum())"
   ]
  },
  {
   "cell_type": "markdown",
   "metadata": {},
   "source": [
    "We don't have any missing values."
   ]
  },
  {
   "cell_type": "markdown",
   "metadata": {},
   "source": [
    "### 2.4 Attribute types"
   ]
  },
  {
   "cell_type": "code",
   "execution_count": 10,
   "metadata": {},
   "outputs": [
    {
     "name": "stdout",
     "output_type": "stream",
     "text": [
      "int64      11\n",
      "float64     5\n",
      "object      5\n",
      "dtype: int64\n",
      "====================================================\n",
      "<class 'pandas.core.frame.DataFrame'>\n",
      "RangeIndex: 10127 entries, 0 to 10126\n",
      "Data columns (total 21 columns):\n",
      " #   Column                    Non-Null Count  Dtype  \n",
      "---  ------                    --------------  -----  \n",
      " 0   CLIENTNUM                 10127 non-null  int64  \n",
      " 1   Attrition_Flag            10127 non-null  int64  \n",
      " 2   Customer_Age              10127 non-null  int64  \n",
      " 3   Gender                    10127 non-null  object \n",
      " 4   Dependent_count           10127 non-null  int64  \n",
      " 5   Education_Level           10127 non-null  object \n",
      " 6   Marital_Status            10127 non-null  object \n",
      " 7   Income_Category           10127 non-null  object \n",
      " 8   Card_Category             10127 non-null  object \n",
      " 9   Months_on_book            10127 non-null  int64  \n",
      " 10  Total_Relationship_Count  10127 non-null  int64  \n",
      " 11  Months_Inactive_12_mon    10127 non-null  int64  \n",
      " 12  Contacts_Count_12_mon     10127 non-null  int64  \n",
      " 13  Credit_Limit              10127 non-null  float64\n",
      " 14  Total_Revolving_Bal       10127 non-null  int64  \n",
      " 15  Avg_Open_To_Buy           10127 non-null  float64\n",
      " 16  Total_Amt_Chng_Q4_Q1      10127 non-null  float64\n",
      " 17  Total_Trans_Amt           10127 non-null  int64  \n",
      " 18  Total_Trans_Ct            10127 non-null  int64  \n",
      " 19  Total_Ct_Chng_Q4_Q1       10127 non-null  float64\n",
      " 20  Avg_Utilization_Ratio     10127 non-null  float64\n",
      "dtypes: float64(5), int64(11), object(5)\n",
      "memory usage: 1.6+ MB\n",
      "None\n"
     ]
    }
   ],
   "source": [
    "print(df.dtypes.value_counts())\n",
    "print(\"====================================================\")\n",
    "print(df.info())"
   ]
  },
  {
   "cell_type": "markdown",
   "metadata": {},
   "source": [
    "We count 16 variables that are numerical (label column included), the other 5 are categorical."
   ]
  },
  {
   "cell_type": "code",
   "execution_count": 11,
   "metadata": {},
   "outputs": [],
   "source": [
    "df_num = df.select_dtypes(include=['int64','float64'])\n",
    "df_cat = df.select_dtypes(include=['object'])"
   ]
  },
  {
   "cell_type": "markdown",
   "metadata": {},
   "source": [
    "### 2.5 Analysis of the numerical columns"
   ]
  },
  {
   "cell_type": "code",
   "execution_count": 12,
   "metadata": {},
   "outputs": [
    {
     "data": {
      "text/html": [
       "<div>\n",
       "<style scoped>\n",
       "    .dataframe tbody tr th:only-of-type {\n",
       "        vertical-align: middle;\n",
       "    }\n",
       "\n",
       "    .dataframe tbody tr th {\n",
       "        vertical-align: top;\n",
       "    }\n",
       "\n",
       "    .dataframe thead th {\n",
       "        text-align: right;\n",
       "    }\n",
       "</style>\n",
       "<table border=\"1\" class=\"dataframe\">\n",
       "  <thead>\n",
       "    <tr style=\"text-align: right;\">\n",
       "      <th></th>\n",
       "      <th>CLIENTNUM</th>\n",
       "      <th>Attrition_Flag</th>\n",
       "      <th>Customer_Age</th>\n",
       "      <th>Dependent_count</th>\n",
       "      <th>Months_on_book</th>\n",
       "      <th>Total_Relationship_Count</th>\n",
       "      <th>Months_Inactive_12_mon</th>\n",
       "      <th>Contacts_Count_12_mon</th>\n",
       "      <th>Credit_Limit</th>\n",
       "      <th>Total_Revolving_Bal</th>\n",
       "      <th>Avg_Open_To_Buy</th>\n",
       "      <th>Total_Amt_Chng_Q4_Q1</th>\n",
       "      <th>Total_Trans_Amt</th>\n",
       "      <th>Total_Trans_Ct</th>\n",
       "      <th>Total_Ct_Chng_Q4_Q1</th>\n",
       "      <th>Avg_Utilization_Ratio</th>\n",
       "    </tr>\n",
       "  </thead>\n",
       "  <tbody>\n",
       "    <tr>\n",
       "      <th>count</th>\n",
       "      <td>10,127.0</td>\n",
       "      <td>10,127.0</td>\n",
       "      <td>10,127.0</td>\n",
       "      <td>10,127.0</td>\n",
       "      <td>10,127.0</td>\n",
       "      <td>10,127.0</td>\n",
       "      <td>10,127.0</td>\n",
       "      <td>10,127.0</td>\n",
       "      <td>10,127.0</td>\n",
       "      <td>10,127.0</td>\n",
       "      <td>10,127.0</td>\n",
       "      <td>10,127.0</td>\n",
       "      <td>10,127.0</td>\n",
       "      <td>10,127.0</td>\n",
       "      <td>10,127.0</td>\n",
       "      <td>10,127.0</td>\n",
       "    </tr>\n",
       "    <tr>\n",
       "      <th>mean</th>\n",
       "      <td>739,177,606.3</td>\n",
       "      <td>0.2</td>\n",
       "      <td>46.3</td>\n",
       "      <td>2.3</td>\n",
       "      <td>35.9</td>\n",
       "      <td>3.8</td>\n",
       "      <td>2.3</td>\n",
       "      <td>2.5</td>\n",
       "      <td>8,632.0</td>\n",
       "      <td>1,162.8</td>\n",
       "      <td>7,469.1</td>\n",
       "      <td>0.8</td>\n",
       "      <td>4,404.1</td>\n",
       "      <td>64.9</td>\n",
       "      <td>0.7</td>\n",
       "      <td>0.3</td>\n",
       "    </tr>\n",
       "    <tr>\n",
       "      <th>std</th>\n",
       "      <td>36,903,783.5</td>\n",
       "      <td>0.4</td>\n",
       "      <td>8.0</td>\n",
       "      <td>1.3</td>\n",
       "      <td>8.0</td>\n",
       "      <td>1.6</td>\n",
       "      <td>1.0</td>\n",
       "      <td>1.1</td>\n",
       "      <td>9,088.8</td>\n",
       "      <td>815.0</td>\n",
       "      <td>9,090.7</td>\n",
       "      <td>0.2</td>\n",
       "      <td>3,397.1</td>\n",
       "      <td>23.5</td>\n",
       "      <td>0.2</td>\n",
       "      <td>0.3</td>\n",
       "    </tr>\n",
       "    <tr>\n",
       "      <th>min</th>\n",
       "      <td>708,082,083.0</td>\n",
       "      <td>0.0</td>\n",
       "      <td>26.0</td>\n",
       "      <td>0.0</td>\n",
       "      <td>13.0</td>\n",
       "      <td>1.0</td>\n",
       "      <td>0.0</td>\n",
       "      <td>0.0</td>\n",
       "      <td>1,438.3</td>\n",
       "      <td>0.0</td>\n",
       "      <td>3.0</td>\n",
       "      <td>0.0</td>\n",
       "      <td>510.0</td>\n",
       "      <td>10.0</td>\n",
       "      <td>0.0</td>\n",
       "      <td>0.0</td>\n",
       "    </tr>\n",
       "    <tr>\n",
       "      <th>25%</th>\n",
       "      <td>713,036,770.5</td>\n",
       "      <td>0.0</td>\n",
       "      <td>41.0</td>\n",
       "      <td>1.0</td>\n",
       "      <td>31.0</td>\n",
       "      <td>3.0</td>\n",
       "      <td>2.0</td>\n",
       "      <td>2.0</td>\n",
       "      <td>2,555.0</td>\n",
       "      <td>359.0</td>\n",
       "      <td>1,324.5</td>\n",
       "      <td>0.6</td>\n",
       "      <td>2,155.5</td>\n",
       "      <td>45.0</td>\n",
       "      <td>0.6</td>\n",
       "      <td>0.0</td>\n",
       "    </tr>\n",
       "    <tr>\n",
       "      <th>50%</th>\n",
       "      <td>717,926,358.0</td>\n",
       "      <td>0.0</td>\n",
       "      <td>46.0</td>\n",
       "      <td>2.0</td>\n",
       "      <td>36.0</td>\n",
       "      <td>4.0</td>\n",
       "      <td>2.0</td>\n",
       "      <td>2.0</td>\n",
       "      <td>4,549.0</td>\n",
       "      <td>1,276.0</td>\n",
       "      <td>3,474.0</td>\n",
       "      <td>0.7</td>\n",
       "      <td>3,899.0</td>\n",
       "      <td>67.0</td>\n",
       "      <td>0.7</td>\n",
       "      <td>0.2</td>\n",
       "    </tr>\n",
       "    <tr>\n",
       "      <th>75%</th>\n",
       "      <td>773,143,533.0</td>\n",
       "      <td>0.0</td>\n",
       "      <td>52.0</td>\n",
       "      <td>3.0</td>\n",
       "      <td>40.0</td>\n",
       "      <td>5.0</td>\n",
       "      <td>3.0</td>\n",
       "      <td>3.0</td>\n",
       "      <td>11,067.5</td>\n",
       "      <td>1,784.0</td>\n",
       "      <td>9,859.0</td>\n",
       "      <td>0.9</td>\n",
       "      <td>4,741.0</td>\n",
       "      <td>81.0</td>\n",
       "      <td>0.8</td>\n",
       "      <td>0.5</td>\n",
       "    </tr>\n",
       "    <tr>\n",
       "      <th>max</th>\n",
       "      <td>828,343,083.0</td>\n",
       "      <td>1.0</td>\n",
       "      <td>73.0</td>\n",
       "      <td>5.0</td>\n",
       "      <td>56.0</td>\n",
       "      <td>6.0</td>\n",
       "      <td>6.0</td>\n",
       "      <td>6.0</td>\n",
       "      <td>34,516.0</td>\n",
       "      <td>2,517.0</td>\n",
       "      <td>34,516.0</td>\n",
       "      <td>3.4</td>\n",
       "      <td>18,484.0</td>\n",
       "      <td>139.0</td>\n",
       "      <td>3.7</td>\n",
       "      <td>1.0</td>\n",
       "    </tr>\n",
       "  </tbody>\n",
       "</table>\n",
       "</div>"
      ],
      "text/plain": [
       "          CLIENTNUM  Attrition_Flag  Customer_Age  Dependent_count  \\\n",
       "count      10,127.0        10,127.0      10,127.0         10,127.0   \n",
       "mean  739,177,606.3             0.2          46.3              2.3   \n",
       "std    36,903,783.5             0.4           8.0              1.3   \n",
       "min   708,082,083.0             0.0          26.0              0.0   \n",
       "25%   713,036,770.5             0.0          41.0              1.0   \n",
       "50%   717,926,358.0             0.0          46.0              2.0   \n",
       "75%   773,143,533.0             0.0          52.0              3.0   \n",
       "max   828,343,083.0             1.0          73.0              5.0   \n",
       "\n",
       "       Months_on_book  Total_Relationship_Count  Months_Inactive_12_mon  \\\n",
       "count        10,127.0                  10,127.0                10,127.0   \n",
       "mean             35.9                       3.8                     2.3   \n",
       "std               8.0                       1.6                     1.0   \n",
       "min              13.0                       1.0                     0.0   \n",
       "25%              31.0                       3.0                     2.0   \n",
       "50%              36.0                       4.0                     2.0   \n",
       "75%              40.0                       5.0                     3.0   \n",
       "max              56.0                       6.0                     6.0   \n",
       "\n",
       "       Contacts_Count_12_mon  Credit_Limit  Total_Revolving_Bal  \\\n",
       "count               10,127.0      10,127.0             10,127.0   \n",
       "mean                     2.5       8,632.0              1,162.8   \n",
       "std                      1.1       9,088.8                815.0   \n",
       "min                      0.0       1,438.3                  0.0   \n",
       "25%                      2.0       2,555.0                359.0   \n",
       "50%                      2.0       4,549.0              1,276.0   \n",
       "75%                      3.0      11,067.5              1,784.0   \n",
       "max                      6.0      34,516.0              2,517.0   \n",
       "\n",
       "       Avg_Open_To_Buy  Total_Amt_Chng_Q4_Q1  Total_Trans_Amt  Total_Trans_Ct  \\\n",
       "count         10,127.0              10,127.0         10,127.0        10,127.0   \n",
       "mean           7,469.1                   0.8          4,404.1            64.9   \n",
       "std            9,090.7                   0.2          3,397.1            23.5   \n",
       "min                3.0                   0.0            510.0            10.0   \n",
       "25%            1,324.5                   0.6          2,155.5            45.0   \n",
       "50%            3,474.0                   0.7          3,899.0            67.0   \n",
       "75%            9,859.0                   0.9          4,741.0            81.0   \n",
       "max           34,516.0                   3.4         18,484.0           139.0   \n",
       "\n",
       "       Total_Ct_Chng_Q4_Q1  Avg_Utilization_Ratio  \n",
       "count             10,127.0               10,127.0  \n",
       "mean                   0.7                    0.3  \n",
       "std                    0.2                    0.3  \n",
       "min                    0.0                    0.0  \n",
       "25%                    0.6                    0.0  \n",
       "50%                    0.7                    0.2  \n",
       "75%                    0.8                    0.5  \n",
       "max                    3.7                    1.0  "
      ]
     },
     "execution_count": 12,
     "metadata": {},
     "output_type": "execute_result"
    }
   ],
   "source": [
    "df_num.describe()"
   ]
  },
  {
   "cell_type": "markdown",
   "metadata": {},
   "source": [
    "#### A few of many interesting facts we can extract from the numerical attributes:\n",
    "\n",
    "* **Customer_Age**: Most of our customers are middle aged people. 75% of them are older than 41yo. Standard deviation and range (max-min) are also relatively small. \n",
    "\n",
    "* **Dependent_count**: The number of dependents are in avarage 2.3 and never more than 5 people. The metrics indicate that most of our customers are part of small or avraged size households/families.\n",
    "\n",
    "* **Months_on_book**: Most of the customers were in the bank for about 3 years. The most recent customer was on the book for more than a year while the person who has been with the bank for the longest will be able to celabrate a 5 year old anniversary as a cutomer of the bank (unless this person is an attrited customer).\n",
    "\n",
    "* **Total_Relationship_Count**: The number of products held by the customer is usually at least 2 and in avarage close to 4 products. This is not very surprising as a product can be different kind of accounts, but also insurance contract or loan. \n",
    "\n",
    "* **Months_Inactive_12_mon**: In the last 12 months, 75% of the customers were inactive for at least two months. Also, nonone was inactive for more than 6 months.\n",
    "\n",
    "* **Contacts_Count_12_mon**: The amount of times the cutomers were in contact with the bank is rather few for 12 months, 2.5 times in avarage. Range goes from 0 to 6."
   ]
  },
  {
   "cell_type": "markdown",
   "metadata": {},
   "source": [
    "### 2.6 Correlation matrix "
   ]
  },
  {
   "cell_type": "code",
   "execution_count": 13,
   "metadata": {},
   "outputs": [
    {
     "data": {
      "text/plain": [
       "<AxesSubplot:>"
      ]
     },
     "execution_count": 13,
     "metadata": {},
     "output_type": "execute_result"
    },
    {
     "data": {
      "image/png": "[encoded data removed]",
      "text/plain": [
       "<Figure size 1440x720 with 2 Axes>"
      ]
     },
     "metadata": {},
     "output_type": "display_data"
    }
   ],
   "source": [
    "plt.figure(figsize=(20,10))\n",
    "mask = np.zeros((df_num.shape[1],df_num.shape[1]))\n",
    "mask[np.triu_indices_from(mask)] = True\n",
    "sns.heatmap(df_num.corr(), annot=True, vmin=-1, vmax=1, linewidths=.5, mask = mask)"
   ]
  },
  {
   "cell_type": "markdown",
   "metadata": {},
   "source": [
    "### 2.7 Analysis of the categorical columns"
   ]
  },
  {
   "cell_type": "code",
   "execution_count": 14,
   "metadata": {},
   "outputs": [
    {
     "data": {
      "text/html": [
       "<div>\n",
       "<style scoped>\n",
       "    .dataframe tbody tr th:only-of-type {\n",
       "        vertical-align: middle;\n",
       "    }\n",
       "\n",
       "    .dataframe tbody tr th {\n",
       "        vertical-align: top;\n",
       "    }\n",
       "\n",
       "    .dataframe thead th {\n",
       "        text-align: right;\n",
       "    }\n",
       "</style>\n",
       "<table border=\"1\" class=\"dataframe\">\n",
       "  <thead>\n",
       "    <tr style=\"text-align: right;\">\n",
       "      <th></th>\n",
       "      <th>Gender</th>\n",
       "      <th>Education_Level</th>\n",
       "      <th>Marital_Status</th>\n",
       "      <th>Income_Category</th>\n",
       "      <th>Card_Category</th>\n",
       "    </tr>\n",
       "  </thead>\n",
       "  <tbody>\n",
       "    <tr>\n",
       "      <th>count</th>\n",
       "      <td>10127</td>\n",
       "      <td>10127</td>\n",
       "      <td>10127</td>\n",
       "      <td>10127</td>\n",
       "      <td>10127</td>\n",
       "    </tr>\n",
       "    <tr>\n",
       "      <th>unique</th>\n",
       "      <td>2</td>\n",
       "      <td>7</td>\n",
       "      <td>4</td>\n",
       "      <td>6</td>\n",
       "      <td>4</td>\n",
       "    </tr>\n",
       "    <tr>\n",
       "      <th>top</th>\n",
       "      <td>F</td>\n",
       "      <td>Graduate</td>\n",
       "      <td>Married</td>\n",
       "      <td>Less than $40K</td>\n",
       "      <td>Blue</td>\n",
       "    </tr>\n",
       "    <tr>\n",
       "      <th>freq</th>\n",
       "      <td>5358</td>\n",
       "      <td>3128</td>\n",
       "      <td>4687</td>\n",
       "      <td>3561</td>\n",
       "      <td>9436</td>\n",
       "    </tr>\n",
       "  </tbody>\n",
       "</table>\n",
       "</div>"
      ],
      "text/plain": [
       "       Gender Education_Level Marital_Status Income_Category Card_Category\n",
       "count   10127           10127          10127           10127         10127\n",
       "unique      2               7              4               6             4\n",
       "top         F        Graduate        Married  Less than $40K          Blue\n",
       "freq     5358            3128           4687            3561          9436"
      ]
     },
     "execution_count": 14,
     "metadata": {},
     "output_type": "execute_result"
    }
   ],
   "source": [
    "df_cat.describe()"
   ]
  },
  {
   "cell_type": "code",
   "execution_count": 15,
   "metadata": {},
   "outputs": [],
   "source": [
    "df_cat = df_cat.join(df['Attrition_Flag'])\n",
    "df_cat['Attrition_Flag'] = df_cat['Attrition_Flag'].astype(str)"
   ]
  },
  {
   "cell_type": "code",
   "execution_count": 16,
   "metadata": {},
   "outputs": [],
   "source": [
    "def stats_on_categ(var1,var2 = df_cat.Attrition_Flag):\n",
    "    pd.options.display.float_format = '{:,.1f}'.format\n",
    "    tab = pd.crosstab(var1,var2, margins = True)\n",
    "    #tab['Distribution of attrited custemers by index values (%)'] = (tab['1']/tab.loc['All','1'])*100\n",
    "    #tab['Part of the (\"All\") index value that attrited (%)'] = (tab['1']/tab.All)*100\n",
    "    return tab\n",
    "\n",
    "def stats_on_categ_visual(var1):\n",
    "    sns.set(rc={'figure.figsize':(8,6)})\n",
    "    tab = stats_on_categ(var1)\n",
    "    tab = tab.drop(['All'], axis=1)\n",
    "    return tab.plot(kind='bar', stacked=True)"
   ]
  },
  {
   "cell_type": "code",
   "execution_count": 17,
   "metadata": {},
   "outputs": [
    {
     "name": "stdout",
     "output_type": "stream",
     "text": [
      "Attrition_Flag     0     1    All\n",
      "Gender                           \n",
      "F               4428   930   5358\n",
      "M               4072   697   4769\n",
      "All             8500  1627  10127\n"
     ]
    },
    {
     "data": {
      "text/plain": [
       "<AxesSubplot:xlabel='Gender'>"
      ]
     },
     "execution_count": 17,
     "metadata": {},
     "output_type": "execute_result"
    },
    {
     "data": {
      "image/png": "[encoded data removed]",
      "text/plain": [
       "<Figure size 576x432 with 1 Axes>"
      ]
     },
     "metadata": {},
     "output_type": "display_data"
    }
   ],
   "source": [
    "print(stats_on_categ(df_cat.Gender))\n",
    "stats_on_categ_visual(df_cat.Gender)"
   ]
  },
  {
   "cell_type": "code",
   "execution_count": 18,
   "metadata": {},
   "outputs": [
    {
     "name": "stdout",
     "output_type": "stream",
     "text": [
      "Attrition_Flag      0     1    All\n",
      "Education_Level                   \n",
      "College           859   154   1013\n",
      "Doctorate         356    95    451\n",
      "Graduate         2641   487   3128\n",
      "High School      1707   306   2013\n",
      "Post-Graduate     424    92    516\n",
      "Uneducated       1250   237   1487\n",
      "Unknown          1263   256   1519\n",
      "All              8500  1627  10127\n"
     ]
    },
    {
     "data": {
      "text/plain": [
       "<AxesSubplot:xlabel='Education_Level'>"
      ]
     },
     "execution_count": 18,
     "metadata": {},
     "output_type": "execute_result"
    },
    {
     "data": {
      "image/png": "[encoded data removed]",
      "text/plain": [
       "<Figure size 576x432 with 1 Axes>"
      ]
     },
     "metadata": {},
     "output_type": "display_data"
    }
   ],
   "source": [
    "print(stats_on_categ(df_cat.Education_Level))\n",
    "stats_on_categ_visual(df_cat.Education_Level)"
   ]
  },
  {
   "cell_type": "code",
   "execution_count": 19,
   "metadata": {},
   "outputs": [
    {
     "name": "stdout",
     "output_type": "stream",
     "text": [
      "Attrition_Flag     0     1    All\n",
      "Marital_Status                   \n",
      "Divorced         627   121    748\n",
      "Married         3978   709   4687\n",
      "Single          3275   668   3943\n",
      "Unknown          620   129    749\n",
      "All             8500  1627  10127\n"
     ]
    },
    {
     "data": {
      "text/plain": [
       "<AxesSubplot:xlabel='Marital_Status'>"
      ]
     },
     "execution_count": 19,
     "metadata": {},
     "output_type": "execute_result"
    },
    {
     "data": {
      "image/png": "[encoded data removed]",
      "text/plain": [
       "<Figure size 576x432 with 1 Axes>"
      ]
     },
     "metadata": {},
     "output_type": "display_data"
    }
   ],
   "source": [
    "print(stats_on_categ(df_cat.Marital_Status))\n",
    "stats_on_categ_visual(df_cat.Marital_Status)"
   ]
  },
  {
   "cell_type": "code",
   "execution_count": 20,
   "metadata": {},
   "outputs": [
    {
     "name": "stdout",
     "output_type": "stream",
     "text": [
      "Attrition_Flag      0     1    All\n",
      "Income_Category                   \n",
      "$120K +           601   126    727\n",
      "$40K - $60K      1519   271   1790\n",
      "$60K - $80K      1213   189   1402\n",
      "$80K - $120K     1293   242   1535\n",
      "Less than $40K   2949   612   3561\n",
      "Unknown           925   187   1112\n",
      "All              8500  1627  10127\n"
     ]
    },
    {
     "data": {
      "text/plain": [
       "<AxesSubplot:xlabel='Income_Category'>"
      ]
     },
     "execution_count": 20,
     "metadata": {},
     "output_type": "execute_result"
    },
    {
     "data": {
      "image/png": "[encoded data removed]",
      "text/plain": [
       "<Figure size 576x432 with 1 Axes>"
      ]
     },
     "metadata": {},
     "output_type": "display_data"
    }
   ],
   "source": [
    "print(stats_on_categ(df_cat.Income_Category))\n",
    "stats_on_categ_visual(df_cat.Income_Category)"
   ]
  },
  {
   "cell_type": "code",
   "execution_count": 21,
   "metadata": {},
   "outputs": [
    {
     "name": "stdout",
     "output_type": "stream",
     "text": [
      "Attrition_Flag     0     1    All\n",
      "Card_Category                    \n",
      "Blue            7917  1519   9436\n",
      "Gold              95    21    116\n",
      "Platinum          15     5     20\n",
      "Silver           473    82    555\n",
      "All             8500  1627  10127\n"
     ]
    },
    {
     "data": {
      "text/plain": [
       "<AxesSubplot:xlabel='Card_Category'>"
      ]
     },
     "execution_count": 21,
     "metadata": {},
     "output_type": "execute_result"
    },
    {
     "data": {
      "image/png": "[encoded data removed]",
      "text/plain": [
       "<Figure size 576x432 with 1 Axes>"
      ]
     },
     "metadata": {},
     "output_type": "display_data"
    }
   ],
   "source": [
    "print(stats_on_categ(df_cat.Card_Category))\n",
    "stats_on_categ_visual(df_cat.Card_Category)"
   ]
  },
  {
   "cell_type": "markdown",
   "metadata": {},
   "source": [
    "# 3. Creating a validation and a train/test dataset"
   ]
  },
  {
   "cell_type": "markdown",
   "metadata": {},
   "source": [
    "Before injecting our data into our model, we set apart around 10% of our data that we won't use during the traing. This will allow us to test the performance of our model on completely unseen data.\n",
    "\n",
    "The data that will be used for the model training will be split up into train and test."
   ]
  },
  {
   "cell_type": "markdown",
   "metadata": {},
   "source": [
    "Before these steps, we randomly shuffle our records to avoid selection bias."
   ]
  },
  {
   "cell_type": "code",
   "execution_count": 22,
   "metadata": {},
   "outputs": [],
   "source": [
    "df = df.sample(frac=1,random_state=1).reset_index(drop=True)"
   ]
  },
  {
   "cell_type": "code",
   "execution_count": 23,
   "metadata": {},
   "outputs": [],
   "source": [
    "df = df.set_index('CLIENTNUM') # customer ID won't be used for churn prediction"
   ]
  },
  {
   "cell_type": "code",
   "execution_count": 24,
   "metadata": {},
   "outputs": [],
   "source": [
    "df_train = df.iloc[0:9000,:]\n",
    "df_valid = df.iloc[9000:,:]"
   ]
  },
  {
   "cell_type": "code",
   "execution_count": 25,
   "metadata": {},
   "outputs": [],
   "source": [
    "target_train = df_train.Attrition_Flag\n",
    "target_valid = df_valid.Attrition_Flag\n",
    "\n",
    "data_train = df_train.drop(['Attrition_Flag'],axis = 1)\n",
    "data_valid = df_valid.drop(['Attrition_Flag'],axis = 1)"
   ]
  },
  {
   "cell_type": "code",
   "execution_count": 26,
   "metadata": {},
   "outputs": [],
   "source": [
    "X_train, X_test, y_train, y_test = train_test_split(data_train, target_train, test_size=0.20, random_state= 7)"
   ]
  },
  {
   "cell_type": "markdown",
   "metadata": {},
   "source": [
    "# 4.Transforming categorical attributes into dummies"
   ]
  },
  {
   "cell_type": "code",
   "execution_count": 27,
   "metadata": {},
   "outputs": [],
   "source": [
    "X_train_dummy = pd.get_dummies(X_train)\n",
    "X_test_dummy = pd.get_dummies(X_test)\n",
    "\n",
    "# verify if we have the same columns in train and test dataset\n",
    "assert X_train_dummy.columns.equals(X_test_dummy.columns)"
   ]
  },
  {
   "cell_type": "markdown",
   "metadata": {},
   "source": [
    "# 5. Standard scaling our data"
   ]
  },
  {
   "cell_type": "code",
   "execution_count": 28,
   "metadata": {},
   "outputs": [],
   "source": [
    "scaler = StandardScaler()\n",
    "scaler.fit(X_train_dummy)\n",
    "\n",
    "X_train_sc = pd.DataFrame(scaler.transform(X_train_dummy), columns = X_train_dummy.columns)\n",
    "X_test_sc = pd.DataFrame(scaler.transform(X_test_dummy), columns = X_train_dummy.columns)"
   ]
  },
  {
   "cell_type": "markdown",
   "metadata": {},
   "source": [
    "# 6.Training a Random Forest model"
   ]
  },
  {
   "cell_type": "code",
   "execution_count": 29,
   "metadata": {},
   "outputs": [
    {
     "name": "stdout",
     "output_type": "stream",
     "text": [
      "RandomForestClassifier(max_depth=13, max_features=13, n_estimators=700)\n",
      "CPU times: user 10.3 s, sys: 217 ms, total: 10.6 s\n",
      "Wall time: 12min 40s\n"
     ]
    }
   ],
   "source": [
    "%%time \n",
    "\n",
    "param_rf = {\n",
    "    'bootstrap': [True],\n",
    "    'max_depth': [10,11,12,13],\n",
    "    'max_features': [10,11,12,13,14],\n",
    "    'n_estimators': [400,500,600,700]\n",
    "}\n",
    "\n",
    "\n",
    "clf_rf = RandomForestClassifier()\n",
    "\n",
    "grid_rf = GridSearchCV(clf_rf, param_rf, cv = 5, n_jobs = -1)\n",
    "grid_rf.fit(X_train_sc,y_train)\n",
    "print(grid_rf.best_estimator_)"
   ]
  },
  {
   "cell_type": "markdown",
   "metadata": {},
   "source": [
    "# 7. Evaluate classification performance"
   ]
  },
  {
   "cell_type": "code",
   "execution_count": 30,
   "metadata": {},
   "outputs": [],
   "source": [
    "def evaluate_perf(y_test,y_pred):\n",
    "    print(pd.crosstab(y_test, y_pred, rownames=['Actual'], colnames=['Predicted']))\n",
    "    print('====================')\n",
    "    print(\"Accuracy : \", \"{:.2f}\".format(accuracy_score(y_test,y_pred)))\n",
    "    print(\"Precision : \", \"{:.2f}\".format(precision_score(y_test,y_pred)))\n",
    "    print(\"Recall : \",\"{:.2f}\".format(recall_score(y_test,y_pred)))\n",
    "    print(\"F1 :\", \"{:.2f}\".format(f1_score(y_test,y_pred)))"
   ]
  },
  {
   "cell_type": "code",
   "execution_count": 31,
   "metadata": {},
   "outputs": [
    {
     "name": "stdout",
     "output_type": "stream",
     "text": [
      "Predicted     0    1\n",
      "Actual              \n",
      "0          1492   21\n",
      "1            49  238\n",
      "====================\n",
      "Accuracy :  0.96\n",
      "Precision :  0.92\n",
      "Recall :  0.83\n",
      "F1 : 0.87\n"
     ]
    }
   ],
   "source": [
    "y_pred_rf = grid_rf.predict(X_test_sc)\n",
    "evaluate_perf(y_test,y_pred_rf)"
   ]
  },
  {
   "cell_type": "markdown",
   "metadata": {},
   "source": [
    "# 8. Validation of the model performance"
   ]
  },
  {
   "cell_type": "code",
   "execution_count": 32,
   "metadata": {},
   "outputs": [],
   "source": [
    "data_valid_dummy = pd.get_dummies(data_valid)\n",
    "assert X_train_dummy.columns.equals(data_valid_dummy.columns)"
   ]
  },
  {
   "cell_type": "code",
   "execution_count": 33,
   "metadata": {},
   "outputs": [],
   "source": [
    "data_valid_sc = pd.DataFrame(scaler.transform(data_valid_dummy), columns = data_valid_dummy.columns)"
   ]
  },
  {
   "cell_type": "code",
   "execution_count": 34,
   "metadata": {},
   "outputs": [
    {
     "name": "stdout",
     "output_type": "stream",
     "text": [
      "Predicted    0    1\n",
      "Actual             \n",
      "0          935   13\n",
      "1           26  153\n",
      "====================\n",
      "Accuracy :  0.97\n",
      "Precision :  0.92\n",
      "Recall :  0.85\n",
      "F1 : 0.89\n"
     ]
    }
   ],
   "source": [
    "valid_pred_rf = grid_rf.predict(data_valid_sc)\n",
    "evaluate_perf(target_valid,valid_pred_rf)"
   ]
  },
  {
   "cell_type": "markdown",
   "metadata": {},
   "source": [
    "# 9. Explainability and feature selection"
   ]
  },
  {
   "cell_type": "code",
   "execution_count": 35,
   "metadata": {},
   "outputs": [
    {
     "data": {
      "text/html": [
       "<div>\n",
       "<style scoped>\n",
       "    .dataframe tbody tr th:only-of-type {\n",
       "        vertical-align: middle;\n",
       "    }\n",
       "\n",
       "    .dataframe tbody tr th {\n",
       "        vertical-align: top;\n",
       "    }\n",
       "\n",
       "    .dataframe thead th {\n",
       "        text-align: right;\n",
       "    }\n",
       "</style>\n",
       "<table border=\"1\" class=\"dataframe\">\n",
       "  <thead>\n",
       "    <tr style=\"text-align: right;\">\n",
       "      <th></th>\n",
       "      <th>feature</th>\n",
       "      <th>importance</th>\n",
       "    </tr>\n",
       "  </thead>\n",
       "  <tbody>\n",
       "    <tr>\n",
       "      <th>11</th>\n",
       "      <td>Total_Trans_Ct</td>\n",
       "      <td>0.196</td>\n",
       "    </tr>\n",
       "    <tr>\n",
       "      <th>10</th>\n",
       "      <td>Total_Trans_Amt</td>\n",
       "      <td>0.191</td>\n",
       "    </tr>\n",
       "    <tr>\n",
       "      <th>7</th>\n",
       "      <td>Total_Revolving_Bal</td>\n",
       "      <td>0.128</td>\n",
       "    </tr>\n",
       "    <tr>\n",
       "      <th>12</th>\n",
       "      <td>Total_Ct_Chng_Q4_Q1</td>\n",
       "      <td>0.105</td>\n",
       "    </tr>\n",
       "    <tr>\n",
       "      <th>3</th>\n",
       "      <td>Total_Relationship_Count</td>\n",
       "      <td>0.078</td>\n",
       "    </tr>\n",
       "    <tr>\n",
       "      <th>13</th>\n",
       "      <td>Avg_Utilization_Ratio</td>\n",
       "      <td>0.055</td>\n",
       "    </tr>\n",
       "    <tr>\n",
       "      <th>9</th>\n",
       "      <td>Total_Amt_Chng_Q4_Q1</td>\n",
       "      <td>0.055</td>\n",
       "    </tr>\n",
       "    <tr>\n",
       "      <th>0</th>\n",
       "      <td>Customer_Age</td>\n",
       "      <td>0.03</td>\n",
       "    </tr>\n",
       "    <tr>\n",
       "      <th>8</th>\n",
       "      <td>Avg_Open_To_Buy</td>\n",
       "      <td>0.025</td>\n",
       "    </tr>\n",
       "    <tr>\n",
       "      <th>6</th>\n",
       "      <td>Credit_Limit</td>\n",
       "      <td>0.023</td>\n",
       "    </tr>\n",
       "    <tr>\n",
       "      <th>5</th>\n",
       "      <td>Contacts_Count_12_mon</td>\n",
       "      <td>0.022</td>\n",
       "    </tr>\n",
       "    <tr>\n",
       "      <th>4</th>\n",
       "      <td>Months_Inactive_12_mon</td>\n",
       "      <td>0.02</td>\n",
       "    </tr>\n",
       "    <tr>\n",
       "      <th>2</th>\n",
       "      <td>Months_on_book</td>\n",
       "      <td>0.019</td>\n",
       "    </tr>\n",
       "    <tr>\n",
       "      <th>1</th>\n",
       "      <td>Dependent_count</td>\n",
       "      <td>0.009</td>\n",
       "    </tr>\n",
       "    <tr>\n",
       "      <th>14</th>\n",
       "      <td>Gender_F</td>\n",
       "      <td>0.005</td>\n",
       "    </tr>\n",
       "    <tr>\n",
       "      <th>15</th>\n",
       "      <td>Gender_M</td>\n",
       "      <td>0.004</td>\n",
       "    </tr>\n",
       "    <tr>\n",
       "      <th>24</th>\n",
       "      <td>Marital_Status_Married</td>\n",
       "      <td>0.003</td>\n",
       "    </tr>\n",
       "    <tr>\n",
       "      <th>25</th>\n",
       "      <td>Marital_Status_Single</td>\n",
       "      <td>0.003</td>\n",
       "    </tr>\n",
       "    <tr>\n",
       "      <th>19</th>\n",
       "      <td>Education_Level_High School</td>\n",
       "      <td>0.002</td>\n",
       "    </tr>\n",
       "    <tr>\n",
       "      <th>22</th>\n",
       "      <td>Education_Level_Unknown</td>\n",
       "      <td>0.002</td>\n",
       "    </tr>\n",
       "    <tr>\n",
       "      <th>18</th>\n",
       "      <td>Education_Level_Graduate</td>\n",
       "      <td>0.002</td>\n",
       "    </tr>\n",
       "    <tr>\n",
       "      <th>30</th>\n",
       "      <td>Income_Category_$80K - $120K</td>\n",
       "      <td>0.002</td>\n",
       "    </tr>\n",
       "    <tr>\n",
       "      <th>29</th>\n",
       "      <td>Income_Category_$60K - $80K</td>\n",
       "      <td>0.002</td>\n",
       "    </tr>\n",
       "    <tr>\n",
       "      <th>16</th>\n",
       "      <td>Education_Level_College</td>\n",
       "      <td>0.002</td>\n",
       "    </tr>\n",
       "    <tr>\n",
       "      <th>28</th>\n",
       "      <td>Income_Category_$40K - $60K</td>\n",
       "      <td>0.002</td>\n",
       "    </tr>\n",
       "    <tr>\n",
       "      <th>31</th>\n",
       "      <td>Income_Category_Less than $40K</td>\n",
       "      <td>0.002</td>\n",
       "    </tr>\n",
       "    <tr>\n",
       "      <th>21</th>\n",
       "      <td>Education_Level_Uneducated</td>\n",
       "      <td>0.002</td>\n",
       "    </tr>\n",
       "    <tr>\n",
       "      <th>17</th>\n",
       "      <td>Education_Level_Doctorate</td>\n",
       "      <td>0.002</td>\n",
       "    </tr>\n",
       "    <tr>\n",
       "      <th>23</th>\n",
       "      <td>Marital_Status_Divorced</td>\n",
       "      <td>0.002</td>\n",
       "    </tr>\n",
       "    <tr>\n",
       "      <th>32</th>\n",
       "      <td>Income_Category_Unknown</td>\n",
       "      <td>0.002</td>\n",
       "    </tr>\n",
       "    <tr>\n",
       "      <th>26</th>\n",
       "      <td>Marital_Status_Unknown</td>\n",
       "      <td>0.001</td>\n",
       "    </tr>\n",
       "    <tr>\n",
       "      <th>20</th>\n",
       "      <td>Education_Level_Post-Graduate</td>\n",
       "      <td>0.001</td>\n",
       "    </tr>\n",
       "    <tr>\n",
       "      <th>33</th>\n",
       "      <td>Card_Category_Blue</td>\n",
       "      <td>0.001</td>\n",
       "    </tr>\n",
       "    <tr>\n",
       "      <th>27</th>\n",
       "      <td>Income_Category_$120K +</td>\n",
       "      <td>0.001</td>\n",
       "    </tr>\n",
       "    <tr>\n",
       "      <th>36</th>\n",
       "      <td>Card_Category_Silver</td>\n",
       "      <td>0.001</td>\n",
       "    </tr>\n",
       "    <tr>\n",
       "      <th>35</th>\n",
       "      <td>Card_Category_Platinum</td>\n",
       "      <td>0.0</td>\n",
       "    </tr>\n",
       "    <tr>\n",
       "      <th>34</th>\n",
       "      <td>Card_Category_Gold</td>\n",
       "      <td>0.0</td>\n",
       "    </tr>\n",
       "  </tbody>\n",
       "</table>\n",
       "</div>"
      ],
      "text/plain": [
       "                           feature importance\n",
       "11                  Total_Trans_Ct      0.196\n",
       "10                 Total_Trans_Amt      0.191\n",
       "7              Total_Revolving_Bal      0.128\n",
       "12             Total_Ct_Chng_Q4_Q1      0.105\n",
       "3         Total_Relationship_Count      0.078\n",
       "13           Avg_Utilization_Ratio      0.055\n",
       "9             Total_Amt_Chng_Q4_Q1      0.055\n",
       "0                     Customer_Age       0.03\n",
       "8                  Avg_Open_To_Buy      0.025\n",
       "6                     Credit_Limit      0.023\n",
       "5            Contacts_Count_12_mon      0.022\n",
       "4           Months_Inactive_12_mon       0.02\n",
       "2                   Months_on_book      0.019\n",
       "1                  Dependent_count      0.009\n",
       "14                        Gender_F      0.005\n",
       "15                        Gender_M      0.004\n",
       "24          Marital_Status_Married      0.003\n",
       "25           Marital_Status_Single      0.003\n",
       "19     Education_Level_High School      0.002\n",
       "22         Education_Level_Unknown      0.002\n",
       "18        Education_Level_Graduate      0.002\n",
       "30    Income_Category_$80K - $120K      0.002\n",
       "29     Income_Category_$60K - $80K      0.002\n",
       "16         Education_Level_College      0.002\n",
       "28     Income_Category_$40K - $60K      0.002\n",
       "31  Income_Category_Less than $40K      0.002\n",
       "21      Education_Level_Uneducated      0.002\n",
       "17       Education_Level_Doctorate      0.002\n",
       "23         Marital_Status_Divorced      0.002\n",
       "32         Income_Category_Unknown      0.002\n",
       "26          Marital_Status_Unknown      0.001\n",
       "20   Education_Level_Post-Graduate      0.001\n",
       "33              Card_Category_Blue      0.001\n",
       "27         Income_Category_$120K +      0.001\n",
       "36            Card_Category_Silver      0.001\n",
       "35          Card_Category_Platinum        0.0\n",
       "34              Card_Category_Gold        0.0"
      ]
     },
     "execution_count": 35,
     "metadata": {},
     "output_type": "execute_result"
    }
   ],
   "source": [
    "pd.options.display.float_format = '{:,.3f}'.format\n",
    "feature_imp = pd.DataFrame(data=[X_train_sc.columns.tolist(), grid_rf.best_estimator_.feature_importances_]).T\n",
    "feature_imp.columns = ['feature','importance']\n",
    "feature_imp.sort_values('importance',ascending=False)"
   ]
  }
 ],
 "metadata": {
  "kernelspec": {
   "display_name": "Python 3",
   "language": "python",
   "name": "python3"
  },
  "language_info": {
   "codemirror_mode": {
    "name": "ipython",
    "version": 3
   },
   "file_extension": ".py",
   "mimetype": "text/x-python",
   "name": "python",
   "nbconvert_exporter": "python",
   "pygments_lexer": "ipython3",
   "version": "3.8.8"
  }
 },
 "nbformat": 4,
 "nbformat_minor": 4
}
